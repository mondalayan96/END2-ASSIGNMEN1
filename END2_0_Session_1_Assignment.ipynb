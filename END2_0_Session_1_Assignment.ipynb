{
  "nbformat": 4,
  "nbformat_minor": 0,
  "metadata": {
    "colab": {
      "name": "END2.0 Session 1 Assignment.ipynb",
      "provenance": [],
      "collapsed_sections": []
    },
    "kernelspec": {
      "name": "python3",
      "display_name": "Python 3"
    },
    "language_info": {
      "name": "python"
    }
  },
  "cells": [
    {
      "cell_type": "code",
      "metadata": {
        "colab": {
          "base_uri": "https://localhost:8080/"
        },
        "id": "GC_6PeobwwkH",
        "outputId": "dfca01d8-41e6-4b03-f7df-0f27fc96a078"
      },
      "source": [
        "import torch\n",
        "from torch.autograd import Variable\n",
        "import torch.nn as nn\n",
        "import torch.nn.functional as F\n",
        "import torch.optim as optim\n",
        "import numpy as np\n",
        "import matplotlib.pyplot as plt\n",
        "%matplotlib inline\n",
        "torch.manual_seed(2)"
      ],
      "execution_count": 1,
      "outputs": [
        {
          "output_type": "execute_result",
          "data": {
            "text/plain": [
              "<torch._C.Generator at 0x7f82e225b8d0>"
            ]
          },
          "metadata": {
            "tags": []
          },
          "execution_count": 1
        }
      ]
    },
    {
      "cell_type": "code",
      "metadata": {
        "id": "bL64bMTkw2GP"
      },
      "source": [
        "# Creating Data to train the model\n",
        "X = torch.Tensor([[0,0], [0,1], [1,0], [1,1]])\n",
        "Y = torch.Tensor([0, 1, 1, 0]).view(-1,1)"
      ],
      "execution_count": 2,
      "outputs": []
    },
    {
      "cell_type": "code",
      "metadata": {
        "id": "aC82kEAIw3Wf"
      },
      "source": [
        "# A class defining the architecture - overall 44 parameters\n",
        "class XOR(nn.Module):\n",
        "    def __init__(self, input_dim = 2, output_dim=1):\n",
        "        super(XOR, self).__init__()\n",
        "        \n",
        "        self.lin1 = nn.Linear(input_dim, 5) # Layer = 1, No of inputs = 2, No of neurons in 1st Layer = 4\n",
        "        self.lin2 = nn.Linear(5, 4) # Layer = 2, No of inputs = 5, No of neurons in 2nd Layer = 4\n",
        "        self.lin3 = nn.Linear(4, output_dim) # Output Layer, No of inputs = 4, No of neurons in 3rd Layer = 1\n",
        "        \n",
        "    \n",
        "    def forward(self, x):\n",
        "        x = self.lin1(x) # Layer 1\n",
        "        x = F.tanh(x)    # Layer 1 tanh activation funtion\n",
        "        x = self.lin2(x) # Layer 2\n",
        "        x = F.tanh(x)    # Layer 2 tanh activation funtion\n",
        "        x = self.lin3(x) # Layer 3\n",
        "        # Removed the last activation funtion\n",
        "        # x = F.tanh(x)\n",
        "        return x"
      ],
      "execution_count": 3,
      "outputs": []
    },
    {
      "cell_type": "code",
      "metadata": {
        "colab": {
          "base_uri": "https://localhost:8080/"
        },
        "id": "8gQIQExYw65K",
        "outputId": "2844b930-39c0-4eeb-ef38-eaebc176d6ef"
      },
      "source": [
        "# Assigning the model and getting parameters summary\n",
        "model = XOR()\n",
        "print(model)\n",
        "from torchsummary import summary\n",
        "# printing summary of the model\n",
        "summary(model, (2,2))"
      ],
      "execution_count": 4,
      "outputs": [
        {
          "output_type": "stream",
          "text": [
            "XOR(\n",
            "  (lin1): Linear(in_features=2, out_features=5, bias=True)\n",
            "  (lin2): Linear(in_features=5, out_features=4, bias=True)\n",
            "  (lin3): Linear(in_features=4, out_features=1, bias=True)\n",
            ")\n",
            "----------------------------------------------------------------\n",
            "        Layer (type)               Output Shape         Param #\n",
            "================================================================\n",
            "            Linear-1                 [-1, 2, 5]              15\n",
            "            Linear-2                 [-1, 2, 4]              24\n",
            "            Linear-3                 [-1, 2, 1]               5\n",
            "================================================================\n",
            "Total params: 44\n",
            "Trainable params: 44\n",
            "Non-trainable params: 0\n",
            "----------------------------------------------------------------\n",
            "Input size (MB): 0.00\n",
            "Forward/backward pass size (MB): 0.00\n",
            "Params size (MB): 0.00\n",
            "Estimated Total Size (MB): 0.00\n",
            "----------------------------------------------------------------\n"
          ],
          "name": "stdout"
        },
        {
          "output_type": "stream",
          "text": [
            "/usr/local/lib/python3.7/dist-packages/torch/nn/functional.py:1698: UserWarning: nn.functional.tanh is deprecated. Use torch.tanh instead.\n",
            "  warnings.warn(\"nn.functional.tanh is deprecated. Use torch.tanh instead.\")\n"
          ],
          "name": "stderr"
        }
      ]
    },
    {
      "cell_type": "code",
      "metadata": {
        "id": "yeotEq19x6XF"
      },
      "source": [
        "# weight initialization for the neurons\n",
        "def weights_init(model):\n",
        "    for m in model.modules():\n",
        "        if isinstance(m, nn.Linear):\n",
        "            # initialize the weight tensor, here we use a normal distribution\n",
        "            m.weight.data.normal_(0, 1)\n",
        "\n",
        "weights_init(model)"
      ],
      "execution_count": 5,
      "outputs": []
    },
    {
      "cell_type": "code",
      "metadata": {
        "id": "WrD_sNzLx78e"
      },
      "source": [
        "# Defining loss funtion\n",
        "loss_func = nn.L1Loss()"
      ],
      "execution_count": 6,
      "outputs": []
    },
    {
      "cell_type": "code",
      "metadata": {
        "id": "-zvbrMd2x_lA"
      },
      "source": [
        "# Defining optimizer\n",
        "optimizer = optim.SGD(model.parameters(), lr=0.02, momentum=0.9)\n"
      ],
      "execution_count": 7,
      "outputs": []
    },
    {
      "cell_type": "code",
      "metadata": {
        "colab": {
          "base_uri": "https://localhost:8080/"
        },
        "id": "q7tWa3D7yA5X",
        "outputId": "ff07e6aa-b6a6-4c9e-fd98-fc9fa82ad5bc"
      },
      "source": [
        "# Training of the model\n",
        "epochs = 2001 # no of epochs\n",
        "steps = X.size(0)\n",
        "# A loop to train the model with given no of epochs\n",
        "for i in range(epochs):\n",
        "    for j in range(steps):\n",
        "        data_point = np.random.randint(X.size(0))\n",
        "        x_var = Variable(X[data_point], requires_grad=False)\n",
        "        y_var = Variable(Y[data_point], requires_grad=False)\n",
        "        \n",
        "        optimizer.zero_grad()\n",
        "        y_hat = model(x_var)\n",
        "        loss = loss_func.forward(y_hat, y_var)\n",
        "        loss.backward()\n",
        "        optimizer.step()\n",
        "        \n",
        "    if i % 50 == 0:\n",
        "        print( \"Epoch: {0}, Loss: {1}, \".format(i, loss.data.numpy()))"
      ],
      "execution_count": 8,
      "outputs": [
        {
          "output_type": "stream",
          "text": [
            "/usr/local/lib/python3.7/dist-packages/torch/nn/functional.py:1698: UserWarning: nn.functional.tanh is deprecated. Use torch.tanh instead.\n",
            "  warnings.warn(\"nn.functional.tanh is deprecated. Use torch.tanh instead.\")\n"
          ],
          "name": "stderr"
        },
        {
          "output_type": "stream",
          "text": [
            "Epoch: 0, Loss: 0.5741396546363831, \n",
            "Epoch: 50, Loss: 0.8225635290145874, \n",
            "Epoch: 100, Loss: 0.5582839250564575, \n",
            "Epoch: 150, Loss: 0.011883020401000977, \n",
            "Epoch: 200, Loss: 0.10531638562679291, \n",
            "Epoch: 250, Loss: 0.23555490374565125, \n",
            "Epoch: 300, Loss: 0.2543698847293854, \n",
            "Epoch: 350, Loss: 0.149377703666687, \n",
            "Epoch: 400, Loss: 0.32247769832611084, \n",
            "Epoch: 450, Loss: 0.041568875312805176, \n",
            "Epoch: 500, Loss: 0.02942488342523575, \n",
            "Epoch: 550, Loss: 0.05058705806732178, \n",
            "Epoch: 600, Loss: 0.05725304037332535, \n",
            "Epoch: 650, Loss: 0.17187544703483582, \n",
            "Epoch: 700, Loss: 0.3789202570915222, \n",
            "Epoch: 750, Loss: 0.06832718849182129, \n",
            "Epoch: 800, Loss: 0.04583917558193207, \n",
            "Epoch: 850, Loss: 0.17462311685085297, \n",
            "Epoch: 900, Loss: 0.005715608596801758, \n",
            "Epoch: 950, Loss: 0.5409003496170044, \n",
            "Epoch: 1000, Loss: 0.2673335671424866, \n",
            "Epoch: 1050, Loss: 0.48354804515838623, \n",
            "Epoch: 1100, Loss: 0.23841071128845215, \n",
            "Epoch: 1150, Loss: 0.2794840335845947, \n",
            "Epoch: 1200, Loss: 0.1054583340883255, \n",
            "Epoch: 1250, Loss: 0.2514885663986206, \n",
            "Epoch: 1300, Loss: 0.12401378154754639, \n",
            "Epoch: 1350, Loss: 0.06461477279663086, \n",
            "Epoch: 1400, Loss: 0.5476151704788208, \n",
            "Epoch: 1450, Loss: 0.7542608976364136, \n",
            "Epoch: 1500, Loss: 0.006312504410743713, \n",
            "Epoch: 1550, Loss: 0.02210068702697754, \n",
            "Epoch: 1600, Loss: 0.2006441205739975, \n",
            "Epoch: 1650, Loss: 0.047660112380981445, \n",
            "Epoch: 1700, Loss: 0.1418599635362625, \n",
            "Epoch: 1750, Loss: 0.2828628420829773, \n",
            "Epoch: 1800, Loss: 0.25411128997802734, \n",
            "Epoch: 1850, Loss: 0.8772091865539551, \n",
            "Epoch: 1900, Loss: 0.051565930247306824, \n",
            "Epoch: 1950, Loss: 0.13134419918060303, \n",
            "Epoch: 2000, Loss: 0.2232508659362793, \n"
          ],
          "name": "stdout"
        }
      ]
    },
    {
      "cell_type": "code",
      "metadata": {
        "id": "QV0dIdveyCRi"
      },
      "source": [
        ""
      ],
      "execution_count": null,
      "outputs": []
    }
  ]
}